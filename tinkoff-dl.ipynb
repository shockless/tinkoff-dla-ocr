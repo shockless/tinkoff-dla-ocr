{
 "cells": [
  {
   "cell_type": "code",
   "execution_count": null,
   "id": "b27cf72e",
   "metadata": {
    "tags": []
   },
   "outputs": [],
   "source": [
    "!unzip -qq CCPD2019-dl1.zip"
   ]
  },
  {
   "cell_type": "code",
   "execution_count": 12,
   "id": "1e40d07c-075b-474c-9b0c-ee0028b6a2f6",
   "metadata": {
    "execution": {
     "iopub.execute_input": "2023-01-08T14:29:19.816141Z",
     "iopub.status.busy": "2023-01-08T14:29:19.815776Z",
     "iopub.status.idle": "2023-01-08T14:29:30.698738Z",
     "shell.execute_reply": "2023-01-08T14:29:30.698025Z",
     "shell.execute_reply.started": "2023-01-08T14:29:19.816111Z"
    }
   },
   "outputs": [
    {
     "name": "stdout",
     "output_type": "stream",
     "text": [
      "Requirement already satisfied: torchmetrics in /opt/conda/lib/python3.10/site-packages (0.11.0)\n",
      "Requirement already satisfied: pybind11 in /opt/conda/lib/python3.10/site-packages (2.10.3)\n",
      "Requirement already satisfied: fastwer in /opt/conda/lib/python3.10/site-packages (0.1.3)\n",
      "Requirement already satisfied: scikit-learn in /opt/conda/lib/python3.10/site-packages (1.2.0)\n",
      "Collecting matplotlib\n",
      "  Downloading matplotlib-3.6.2-cp310-cp310-manylinux_2_17_x86_64.manylinux2014_x86_64.whl (11.8 MB)\n",
      "\u001b[2K     \u001b[90m━━━━━━━━━━━━━━━━━━━━━━━━━━━━━━━━━━━━━━━━\u001b[0m \u001b[32m11.8/11.8 MB\u001b[0m \u001b[31m9.4 MB/s\u001b[0m eta \u001b[36m0:00:00\u001b[0m:00:01\u001b[0m00:01\u001b[0m\n",
      "\u001b[?25hRequirement already satisfied: numpy>=1.17.2 in /opt/conda/lib/python3.10/site-packages (from torchmetrics) (1.24.1)\n",
      "Requirement already satisfied: packaging in /opt/conda/lib/python3.10/site-packages (from torchmetrics) (21.3)\n",
      "Requirement already satisfied: torch>=1.8.1 in /opt/conda/lib/python3.10/site-packages (from torchmetrics) (1.13.1+cu116)\n",
      "Requirement already satisfied: joblib>=1.1.1 in /opt/conda/lib/python3.10/site-packages (from scikit-learn) (1.2.0)\n",
      "Requirement already satisfied: threadpoolctl>=2.0.0 in /opt/conda/lib/python3.10/site-packages (from scikit-learn) (3.1.0)\n",
      "Requirement already satisfied: scipy>=1.3.2 in /opt/conda/lib/python3.10/site-packages (from scikit-learn) (1.10.0)\n",
      "Collecting kiwisolver>=1.0.1\n",
      "  Downloading kiwisolver-1.4.4-cp310-cp310-manylinux_2_12_x86_64.manylinux2010_x86_64.whl (1.6 MB)\n",
      "\u001b[2K     \u001b[90m━━━━━━━━━━━━━━━━━━━━━━━━━━━━━━━━━━━━━━━━\u001b[0m \u001b[32m1.6/1.6 MB\u001b[0m \u001b[31m5.6 MB/s\u001b[0m eta \u001b[36m0:00:00\u001b[0m00:01\u001b[0m00:01\u001b[0m\n",
      "\u001b[?25hRequirement already satisfied: pillow>=6.2.0 in /opt/conda/lib/python3.10/site-packages (from matplotlib) (9.4.0)\n",
      "Requirement already satisfied: pyparsing>=2.2.1 in /opt/conda/lib/python3.10/site-packages (from matplotlib) (3.0.9)\n",
      "Collecting cycler>=0.10\n",
      "  Downloading cycler-0.11.0-py3-none-any.whl (6.4 kB)\n",
      "Requirement already satisfied: python-dateutil>=2.7 in /opt/conda/lib/python3.10/site-packages (from matplotlib) (2.8.2)\n",
      "Collecting fonttools>=4.22.0\n",
      "  Downloading fonttools-4.38.0-py3-none-any.whl (965 kB)\n",
      "\u001b[2K     \u001b[90m━━━━━━━━━━━━━━━━━━━━━━━━━━━━━━━━━━━━━━━\u001b[0m \u001b[32m965.4/965.4 kB\u001b[0m \u001b[31m6.6 MB/s\u001b[0m eta \u001b[36m0:00:00\u001b[0m00:01\u001b[0m00:01\u001b[0m\n",
      "\u001b[?25hCollecting contourpy>=1.0.1\n",
      "  Downloading contourpy-1.0.6-cp310-cp310-manylinux_2_17_x86_64.manylinux2014_x86_64.whl (296 kB)\n",
      "\u001b[2K     \u001b[90m━━━━━━━━━━━━━━━━━━━━━━━━━━━━━━━━━━━━━━━\u001b[0m \u001b[32m296.1/296.1 kB\u001b[0m \u001b[31m5.3 MB/s\u001b[0m eta \u001b[36m0:00:00\u001b[0ma \u001b[36m0:00:01\u001b[0m\n",
      "\u001b[?25hRequirement already satisfied: six>=1.5 in /opt/conda/lib/python3.10/site-packages (from python-dateutil>=2.7->matplotlib) (1.16.0)\n",
      "Requirement already satisfied: typing-extensions in /opt/conda/lib/python3.10/site-packages (from torch>=1.8.1->torchmetrics) (4.3.0)\n",
      "Installing collected packages: kiwisolver, fonttools, cycler, contourpy, matplotlib\n",
      "Successfully installed contourpy-1.0.6 cycler-0.11.0 fonttools-4.38.0 kiwisolver-1.4.4 matplotlib-3.6.2\n"
     ]
    }
   ],
   "source": [
    "!pip install torchmetrics pybind11 fastwer scikit-learn matplotlib"
   ]
  },
  {
   "cell_type": "code",
   "execution_count": 13,
   "id": "9b9cbe4b",
   "metadata": {
    "execution": {
     "iopub.execute_input": "2023-01-08T14:29:53.497537Z",
     "iopub.status.busy": "2023-01-08T14:29:53.496946Z",
     "iopub.status.idle": "2023-01-08T14:29:55.511159Z",
     "shell.execute_reply": "2023-01-08T14:29:55.510587Z",
     "shell.execute_reply.started": "2023-01-08T14:29:53.497507Z"
    },
    "tags": []
   },
   "outputs": [],
   "source": [
    "import torch\n",
    "import torchvision\n",
    "import fastwer\n",
    "import torchmetrics\n",
    "import os\n",
    "import gc \n",
    "\n",
    "import numpy as np\n",
    "import matplotlib.pyplot as plt\n",
    "\n",
    "from torch import nn\n",
    "from torchvision import transforms\n",
    "from PIL import Image\n",
    "\n",
    "from tqdm.notebook import tqdm\n",
    "from sklearn.metrics import accuracy_score"
   ]
  },
  {
   "cell_type": "code",
   "execution_count": 2,
   "id": "0a2fce82",
   "metadata": {
    "execution": {
     "iopub.execute_input": "2023-01-08T14:22:14.281568Z",
     "iopub.status.busy": "2023-01-08T14:22:14.281376Z",
     "iopub.status.idle": "2023-01-08T14:22:14.284863Z",
     "shell.execute_reply": "2023-01-08T14:22:14.284526Z",
     "shell.execute_reply.started": "2023-01-08T14:22:14.281554Z"
    },
    "tags": []
   },
   "outputs": [],
   "source": [
    "path = 'CCPD2019-dl1/'\n",
    "\n",
    "dictionary = [\"皖\", \"沪\", \"津\", \"渝\", \"冀\", \"晋\", \"蒙\", \"辽\",\n",
    "             \"吉\", \"黑\", \"苏\", \"浙\", \"京\", \"闽\", \"赣\", \"鲁\",\n",
    "             \"豫\", \"鄂\", \"湘\", \"粤\", \"桂\", \"琼\", \"川\", \"贵\",\n",
    "             \"云\", \"藏\", \"陕\", \"甘\", \"青\", \"宁\", \"新\", \"警\",\n",
    "             \"学\", \"O\", 'A', 'B', 'C', 'D', 'E', 'F', 'G', 'H',\n",
    "       'J', 'K', 'L', 'M', 'N', 'P', 'Q', 'R',\n",
    "       'S', 'T', 'U', 'V', 'W', 'X', 'Y', 'Z',\n",
    "       '0', '1', '2', '3', '4', '5', '6', '7',\n",
    "       '8', '9', 'O']\n",
    "unknown = '<U>'\n",
    "blank = '<B>'"
   ]
  },
  {
   "cell_type": "code",
   "execution_count": 3,
   "id": "4707a3bc",
   "metadata": {
    "execution": {
     "iopub.execute_input": "2023-01-08T14:22:14.285587Z",
     "iopub.status.busy": "2023-01-08T14:22:14.285334Z",
     "iopub.status.idle": "2023-01-08T14:22:14.289476Z",
     "shell.execute_reply": "2023-01-08T14:22:14.289152Z",
     "shell.execute_reply.started": "2023-01-08T14:22:14.285572Z"
    },
    "tags": []
   },
   "outputs": [],
   "source": [
    "class Tokenizer:\n",
    "    def __init__(self, labels):\n",
    "        self.char2id = {}\n",
    "        self.char2id[unknown] = 0\n",
    "        self.char2id[blank] = 1\n",
    "        for i, label in enumerate(labels):\n",
    "                self.char2id[label] = i + 2\n",
    "        self.id2char = {v:k for k, v in self.char2id.items()}\n",
    "        \n",
    "    def encode(self, label):\n",
    "        enc_label = [self.char2id[char] if char in self.char2id else self.char2id[unknown] for char in label]\n",
    "        return enc_label\n",
    "    \n",
    "    def __len__(self):\n",
    "        return len(self.char2id)\n",
    "    \n",
    "    def decode(self, enc_list):\n",
    "        decoded_list = ''\n",
    "        for i, char in enumerate(enc_list):\n",
    "            if (char != self.char2id[unknown] and char != self.char2id[blank] and not(i > 0 and char == enc_list[i - 1])):\n",
    "                decoded_list += self.id2char[char]\n",
    "        return decoded_list"
   ]
  },
  {
   "cell_type": "code",
   "execution_count": 4,
   "id": "36cae4bb",
   "metadata": {
    "execution": {
     "iopub.execute_input": "2023-01-08T14:22:14.290363Z",
     "iopub.status.busy": "2023-01-08T14:22:14.290133Z",
     "iopub.status.idle": "2023-01-08T14:22:14.293977Z",
     "shell.execute_reply": "2023-01-08T14:22:14.293686Z",
     "shell.execute_reply.started": "2023-01-08T14:22:14.290351Z"
    },
    "tags": []
   },
   "outputs": [],
   "source": [
    "class Dataset(torch.utils.data.Dataset):\n",
    "    def __init__(self, path, transform, tokenizer):\n",
    "        super().__init__()\n",
    "        self.files = [file for file in os.listdir(path) if file[0] != '.']\n",
    "        self.t = transform\n",
    "        self.labels = [file.split('-')[-1].split('.')[0] for file in self.files]\n",
    "        self.path = path\n",
    "        self.alphabet = {}\n",
    "        self.tokenizer = tokenizer\n",
    "        self.encoded_labels = [self.tokenizer.encode(label) for label in self.labels]\n",
    "        \n",
    "    def __len__(self):\n",
    "        return len(self.files)\n",
    "    \n",
    "    def __getitem__(self, ind):\n",
    "        image = Image.open(f'{self.path}{self.files[ind]}')\n",
    "        img = self.t(image)\n",
    "        label = self.labels[ind]\n",
    "        return img, label, self.encoded_labels[ind]"
   ]
  },
  {
   "cell_type": "code",
   "execution_count": 5,
   "id": "20562a11-3f15-4ecc-b0c5-63a932b344c0",
   "metadata": {
    "execution": {
     "iopub.execute_input": "2023-01-08T14:22:14.388936Z",
     "iopub.status.busy": "2023-01-08T14:22:14.388746Z",
     "iopub.status.idle": "2023-01-08T14:22:15.357079Z",
     "shell.execute_reply": "2023-01-08T14:22:15.356630Z",
     "shell.execute_reply.started": "2023-01-08T14:22:14.388923Z"
    },
    "tags": []
   },
   "outputs": [],
   "source": [
    "tokenizer = Tokenizer(dictionary)\n",
    "\n",
    "transform = transforms.Compose([\n",
    "    transforms.Resize((32, 220)),\n",
    "    transforms.ToTensor(),\n",
    "])\n",
    "\n",
    "train_dataset = Dataset(os.path.join(path,'train/'), transform, tokenizer)\n",
    "test_dataset = Dataset(os.path.join(path,'test/'), transform, tokenizer)"
   ]
  },
  {
   "cell_type": "code",
   "execution_count": 7,
   "id": "55b6d290-a91f-4897-ac55-4d9935c4fff9",
   "metadata": {
    "execution": {
     "iopub.execute_input": "2023-01-08T14:22:36.770397Z",
     "iopub.status.busy": "2023-01-08T14:22:36.770036Z",
     "iopub.status.idle": "2023-01-08T14:22:36.774451Z",
     "shell.execute_reply": "2023-01-08T14:22:36.773979Z",
     "shell.execute_reply.started": "2023-01-08T14:22:36.770369Z"
    },
    "tags": []
   },
   "outputs": [
    {
     "data": {
      "text/plain": [
       "(199980, 9999)"
      ]
     },
     "execution_count": 7,
     "metadata": {},
     "output_type": "execute_result"
    }
   ],
   "source": [
    "len(train_dataset), len(test_dataset)"
   ]
  },
  {
   "cell_type": "code",
   "execution_count": 18,
   "id": "bf7eac8f-2083-4147-9e75-163f4ae09173",
   "metadata": {
    "execution": {
     "iopub.execute_input": "2023-01-08T14:30:18.970346Z",
     "iopub.status.busy": "2023-01-08T14:30:18.970060Z",
     "iopub.status.idle": "2023-01-08T14:30:19.054904Z",
     "shell.execute_reply": "2023-01-08T14:30:19.054459Z",
     "shell.execute_reply.started": "2023-01-08T14:30:18.970328Z"
    },
    "tags": []
   },
   "outputs": [
    {
     "data": {
      "image/png": "[encoded data removed]",
      "text/plain": [
       "<Figure size 640x480 with 1 Axes>"
      ]
     },
     "metadata": {},
     "output_type": "display_data"
    }
   ],
   "source": [
    "plt.imshow(test_dataset[3][0].permute(1, 2, 0))\n",
    "plt.show()"
   ]
  },
  {
   "cell_type": "code",
   "execution_count": 6,
   "id": "bf77b173",
   "metadata": {
    "execution": {
     "iopub.execute_input": "2023-01-07T23:02:11.549685Z",
     "iopub.status.busy": "2023-01-07T23:02:11.549549Z",
     "iopub.status.idle": "2023-01-07T23:02:11.553558Z",
     "shell.execute_reply": "2023-01-07T23:02:11.553127Z",
     "shell.execute_reply.started": "2023-01-07T23:02:11.549672Z"
    },
    "tags": []
   },
   "outputs": [],
   "source": [
    "class Downsample(nn.Module):\n",
    "  def __init__(self, in_channels, out_channels, kernel_size, stride, padding=1,use_batchnorm=True):\n",
    "    super().__init__()\n",
    "    if use_batchnorm:\n",
    "      self.core=nn.Sequential(\n",
    "          nn.Conv2d(in_channels=in_channels, out_channels=out_channels, kernel_size=kernel_size, stride=stride, padding=padding),\n",
    "          nn.BatchNorm2d(out_channels),\n",
    "          nn.ReLU()\n",
    "      )\n",
    "    else:\n",
    "      self.core=nn.Sequential(\n",
    "        nn.Conv2d(in_channels=in_channels, out_channels=out_channels, kernel_size=kernel_size, stride=stride, padding=padding),\n",
    "        nn.ReLU()\n",
    "    )\n",
    "  def forward(self, x):\n",
    "    return self.core(x)"
   ]
  },
  {
   "cell_type": "code",
   "execution_count": 7,
   "id": "6545f209",
   "metadata": {
    "execution": {
     "iopub.execute_input": "2023-01-07T23:02:11.554685Z",
     "iopub.status.busy": "2023-01-07T23:02:11.554554Z",
     "iopub.status.idle": "2023-01-07T23:02:11.558311Z",
     "shell.execute_reply": "2023-01-07T23:02:11.557969Z",
     "shell.execute_reply.started": "2023-01-07T23:02:11.554673Z"
    },
    "tags": []
   },
   "outputs": [],
   "source": [
    "class Encoder(nn.Module):\n",
    "    def __init__(self):\n",
    "        super().__init__()\n",
    "        self.layers = nn.Sequential(\n",
    "        Downsample(in_channels=3, out_channels=64, kernel_size=3, stride=1, use_batchnorm=False),\n",
    "        nn.MaxPool2d(kernel_size = 2, stride = 2),\n",
    "        Downsample(in_channels=64, out_channels=128, kernel_size=3, stride=1),\n",
    "        nn.MaxPool2d(kernel_size = (1,2), stride = 2),\n",
    "        Downsample(in_channels=128, out_channels=256, kernel_size=3, stride=1),\n",
    "        nn.MaxPool2d(kernel_size = (1,2), stride = 2),\n",
    "        Downsample(in_channels=256, out_channels=128, kernel_size=3, stride=1),\n",
    "        )\n",
    "    def forward(self, inputs):\n",
    "        x = self.layers(inputs)\n",
    "        return x"
   ]
  },
  {
   "cell_type": "code",
   "execution_count": 8,
   "id": "2d7dfd7b",
   "metadata": {
    "execution": {
     "iopub.execute_input": "2023-01-07T23:02:11.558860Z",
     "iopub.status.busy": "2023-01-07T23:02:11.558735Z",
     "iopub.status.idle": "2023-01-07T23:02:11.563996Z",
     "shell.execute_reply": "2023-01-07T23:02:11.563586Z",
     "shell.execute_reply.started": "2023-01-07T23:02:11.558848Z"
    },
    "tags": []
   },
   "outputs": [],
   "source": [
    "class BiLSTM(nn.Module):\n",
    "    def __init__(self, input_dim, hidden_dim, num_layers, dropout = 0.1):\n",
    "        super().__init__()\n",
    "        self.rnn = nn.LSTM(input_dim, hidden_dim, num_layers, dropout = dropout, batch_first = True, bidirectional = True)\n",
    "\n",
    "    def forward(self, inputs):\n",
    "        outputs, _ = self.rnn(inputs)\n",
    "        return outputs\n",
    "\n",
    "class CRNN(nn.Module):\n",
    "    \n",
    "\n",
    "    \n",
    "    def __init__(self, output_dim,  hidden_dim, max_len = 15, num_layers = 2):\n",
    "        super().__init__()\n",
    "        self.encoder = Encoder()\n",
    "        self.avg_pool = nn.AdaptiveAvgPool2d((max_len, max_len))\n",
    "        self.rnn = BiLSTM(max_len, hidden_dim, num_layers)\n",
    "        self.classify_layer = nn.Sequential(\n",
    "            nn.Linear(hidden_dim * 2, max_len),\n",
    "            nn.GELU(),\n",
    "            nn.Dropout(0.1),\n",
    "            nn.Linear(max_len, output_dim)\n",
    "        )\n",
    "    \n",
    "    def forward(self, inputs):\n",
    "        outp = self.encoder(inputs)\n",
    "        b, c, h, w = outp.shape\n",
    "        outp = outp.view(b, c * h, w)\n",
    "        outp = self.avg_pool(outp)\n",
    "        outp = outp.transpose(1,2)\n",
    "        outp = self.rnn(outp)\n",
    "        outp = self.classify_layer(outp)\n",
    "        outp = outp.permute(1, 0, 2)\n",
    "        outp = nn.functional.log_softmax(outp, dim=2)\n",
    "        return outp"
   ]
  },
  {
   "cell_type": "code",
   "execution_count": 9,
   "id": "4f4b2777",
   "metadata": {
    "execution": {
     "iopub.execute_input": "2023-01-07T23:02:11.564590Z",
     "iopub.status.busy": "2023-01-07T23:02:11.564467Z",
     "iopub.status.idle": "2023-01-07T23:02:11.567125Z",
     "shell.execute_reply": "2023-01-07T23:02:11.566801Z",
     "shell.execute_reply.started": "2023-01-07T23:02:11.564578Z"
    },
    "tags": []
   },
   "outputs": [],
   "source": [
    "def collate_fn(batch):\n",
    "    images, labels, encoded_labels = zip(*batch)\n",
    "    images = torch.stack(images, 0)\n",
    "    encoded_labels = torch.nn.utils.rnn.pad_sequence(torch.tensor(encoded_labels), batch_first=True, padding_value=1)\n",
    "    return images, labels, encoded_labels"
   ]
  },
  {
   "cell_type": "code",
   "execution_count": 10,
   "id": "f28c8879",
   "metadata": {
    "execution": {
     "iopub.execute_input": "2023-01-07T23:02:11.567931Z",
     "iopub.status.busy": "2023-01-07T23:02:11.567663Z",
     "iopub.status.idle": "2023-01-07T23:02:11.571553Z",
     "shell.execute_reply": "2023-01-07T23:02:11.571232Z",
     "shell.execute_reply.started": "2023-01-07T23:02:11.567915Z"
    },
    "tags": []
   },
   "outputs": [],
   "source": [
    "def train_epoch(model,\n",
    "               dataset,\n",
    "               loss,\n",
    "               optimizer,\n",
    "               scheduler,\n",
    "               device):\n",
    "    model.train()\n",
    "    epoch_loss = 0\n",
    "    model = model.to(device)\n",
    "    for img, label, encoded_label in tqdm(dataset):\n",
    "        \n",
    "        batch = img.shape[0]\n",
    "        \n",
    "        img = img.to(device)\n",
    "        \n",
    "        optimizer.zero_grad()\n",
    "        \n",
    "        preds = model(img)\n",
    "        \n",
    "        p_labels = torch.full(size = (batch,), fill_value = preds.size(0), dtype = torch.long)\n",
    "        t_labels = torch.full(size = (batch,), fill_value = encoded_label.size(1), dtype = torch.long)\n",
    "\n",
    "        b_loss = loss(preds, encoded_label, p_labels, t_labels)\n",
    "        \n",
    "        epoch_loss += b_loss.item()\n",
    "        \n",
    "        b_loss.backward()\n",
    "        optimizer.step()\n",
    "    \n",
    "    \n",
    "    return epoch_loss / len(dataset)"
   ]
  },
  {
   "cell_type": "code",
   "execution_count": 11,
   "id": "df46bbdf",
   "metadata": {
    "execution": {
     "iopub.execute_input": "2023-01-07T23:02:11.695662Z",
     "iopub.status.busy": "2023-01-07T23:02:11.695493Z",
     "iopub.status.idle": "2023-01-07T23:02:11.699800Z",
     "shell.execute_reply": "2023-01-07T23:02:11.699377Z",
     "shell.execute_reply.started": "2023-01-07T23:02:11.695647Z"
    },
    "tags": []
   },
   "outputs": [],
   "source": [
    "def eval_epoch(model,\n",
    "               dataset,\n",
    "               loss,\n",
    "               device):\n",
    "    model.eval()\n",
    "    epoch_loss = 0\n",
    "    model = model.to(device)\n",
    "    for img, label, encoded_label in tqdm(dataset):\n",
    "        \n",
    "        with torch.no_grad():\n",
    "            batch = img.shape[0]\n",
    "\n",
    "            img = img.to(device)\n",
    "            encoded_label = encoded_label.to(device)\n",
    "\n",
    "            preds = model(img)\n",
    "\n",
    "            p_labels = torch.full(size = (batch,), fill_value = preds.size(0), dtype = torch.long)\n",
    "            t_labels = torch.full(size = (batch,), fill_value = encoded_label.size(1), dtype = torch.long)\n",
    "\n",
    "            b_loss = loss(preds, encoded_label, p_labels, t_labels)\n",
    "\n",
    "            epoch_loss += b_loss.item()\n",
    "    \n",
    "    return epoch_loss / len(dataset)"
   ]
  },
  {
   "cell_type": "code",
   "execution_count": 12,
   "id": "29d01f5a",
   "metadata": {
    "execution": {
     "iopub.execute_input": "2023-01-07T23:02:11.852432Z",
     "iopub.status.busy": "2023-01-07T23:02:11.851946Z",
     "iopub.status.idle": "2023-01-07T23:02:11.857183Z",
     "shell.execute_reply": "2023-01-07T23:02:11.856462Z",
     "shell.execute_reply.started": "2023-01-07T23:02:11.852412Z"
    },
    "tags": []
   },
   "outputs": [],
   "source": [
    "def train_model(model, \n",
    "                train_dataset,\n",
    "                test_dataset,\n",
    "                batch_size,\n",
    "                epochs,\n",
    "                loss,\n",
    "                optimizer,\n",
    "                scheduler,\n",
    "                device):\n",
    "    \n",
    "    model.cuda()\n",
    "    loss.to(device)\n",
    "    \n",
    "    test_dataloader = torch.utils.data.DataLoader(test_dataset, \n",
    "                                                  batch_size = batch_size, \n",
    "                                                  shuffle = False, \n",
    "                                                  collate_fn = collate_fn)\n",
    "    \n",
    "    train_dataloader = torch.utils.data.DataLoader(train_dataset,\n",
    "                                                   batch_size = batch_size, \n",
    "                                                   shuffle = True, \n",
    "                                                   collate_fn = collate_fn)\n",
    "    for epoch_i in range(epochs):\n",
    "        print(f'Epoch {epoch_i+1}')\n",
    "        train_loss = train_epoch(model, train_dataloader, loss, optimizer, scheduler, device)\n",
    "        eval_loss = eval_epoch(model, test_dataloader, loss, device)\n",
    "        scheduler.step(eval_loss)\n",
    "        print(f'Train CTC: {train_loss}')\n",
    "        print(f'Eval CTC: {eval_loss}')\n",
    "        print()\n",
    "    torch.save(model, f'model_ep{epoch_i+1}.pt')\n",
    "        "
   ]
  },
  {
   "cell_type": "code",
   "execution_count": 13,
   "id": "917c69ce",
   "metadata": {
    "execution": {
     "iopub.execute_input": "2023-01-07T23:02:12.023755Z",
     "iopub.status.busy": "2023-01-07T23:02:12.023254Z",
     "iopub.status.idle": "2023-01-07T23:25:16.770384Z",
     "shell.execute_reply": "2023-01-07T23:25:16.769933Z",
     "shell.execute_reply.started": "2023-01-07T23:02:12.023738Z"
    },
    "tags": []
   },
   "outputs": [
    {
     "name": "stdout",
     "output_type": "stream",
     "text": [
      "Epoch 1\n"
     ]
    },
    {
     "data": {
      "application/vnd.jupyter.widget-view+json": {
       "model_id": "e93482ebda0543889d7a0e9f0afa21f7",
       "version_major": 2,
       "version_minor": 0
      },
      "text/plain": [
       "  0%|          | 0/1563 [00:00<?, ?it/s]"
      ]
     },
     "metadata": {},
     "output_type": "display_data"
    },
    {
     "data": {
      "application/vnd.jupyter.widget-view+json": {
       "model_id": "1d97404ea6f74704b8bbc3be3475219a",
       "version_major": 2,
       "version_minor": 0
      },
      "text/plain": [
       "  0%|          | 0/79 [00:00<?, ?it/s]"
      ]
     },
     "metadata": {},
     "output_type": "display_data"
    },
    {
     "name": "stdout",
     "output_type": "stream",
     "text": [
      "Train CTC: 3.0028658341842815\n",
      "Eval CTC: 2.0103080891355685\n",
      "\n",
      "Epoch 2\n"
     ]
    },
    {
     "data": {
      "application/vnd.jupyter.widget-view+json": {
       "model_id": "e77b848b56324821b5100e082276ff59",
       "version_major": 2,
       "version_minor": 0
      },
      "text/plain": [
       "  0%|          | 0/1563 [00:00<?, ?it/s]"
      ]
     },
     "metadata": {},
     "output_type": "display_data"
    },
    {
     "data": {
      "application/vnd.jupyter.widget-view+json": {
       "model_id": "62163f388a4c4f9da05d7ef51d24a535",
       "version_major": 2,
       "version_minor": 0
      },
      "text/plain": [
       "  0%|          | 0/79 [00:00<?, ?it/s]"
      ]
     },
     "metadata": {},
     "output_type": "display_data"
    },
    {
     "name": "stdout",
     "output_type": "stream",
     "text": [
      "Train CTC: 0.9231137104013069\n",
      "Eval CTC: 0.2196903477741193\n",
      "\n",
      "Epoch 3\n"
     ]
    },
    {
     "data": {
      "application/vnd.jupyter.widget-view+json": {
       "model_id": "4acbd73575c44e788c0cd820e490f273",
       "version_major": 2,
       "version_minor": 0
      },
      "text/plain": [
       "  0%|          | 0/1563 [00:00<?, ?it/s]"
      ]
     },
     "metadata": {},
     "output_type": "display_data"
    },
    {
     "data": {
      "application/vnd.jupyter.widget-view+json": {
       "model_id": "3e4181f5e2f644a99fe18ac3728f4526",
       "version_major": 2,
       "version_minor": 0
      },
      "text/plain": [
       "  0%|          | 0/79 [00:00<?, ?it/s]"
      ]
     },
     "metadata": {},
     "output_type": "display_data"
    },
    {
     "name": "stdout",
     "output_type": "stream",
     "text": [
      "Train CTC: 0.20089744116755837\n",
      "Eval CTC: 0.10001567105137849\n",
      "\n",
      "Epoch 4\n"
     ]
    },
    {
     "data": {
      "application/vnd.jupyter.widget-view+json": {
       "model_id": "50598d58a95b4dd6b552cf9c48e3ea51",
       "version_major": 2,
       "version_minor": 0
      },
      "text/plain": [
       "  0%|          | 0/1563 [00:00<?, ?it/s]"
      ]
     },
     "metadata": {},
     "output_type": "display_data"
    },
    {
     "data": {
      "application/vnd.jupyter.widget-view+json": {
       "model_id": "84e11669d66a4a34bcc39b17e33019cf",
       "version_major": 2,
       "version_minor": 0
      },
      "text/plain": [
       "  0%|          | 0/79 [00:00<?, ?it/s]"
      ]
     },
     "metadata": {},
     "output_type": "display_data"
    },
    {
     "name": "stdout",
     "output_type": "stream",
     "text": [
      "Train CTC: 0.10375405463818473\n",
      "Eval CTC: 0.07591616317535503\n",
      "\n",
      "Epoch 5\n"
     ]
    },
    {
     "data": {
      "application/vnd.jupyter.widget-view+json": {
       "model_id": "adb9a5402c4f405e96e4abffe9b7c9d0",
       "version_major": 2,
       "version_minor": 0
      },
      "text/plain": [
       "  0%|          | 0/1563 [00:00<?, ?it/s]"
      ]
     },
     "metadata": {},
     "output_type": "display_data"
    },
    {
     "data": {
      "application/vnd.jupyter.widget-view+json": {
       "model_id": "bef24d57715e4782890185ff424af677",
       "version_major": 2,
       "version_minor": 0
      },
      "text/plain": [
       "  0%|          | 0/79 [00:00<?, ?it/s]"
      ]
     },
     "metadata": {},
     "output_type": "display_data"
    },
    {
     "name": "stdout",
     "output_type": "stream",
     "text": [
      "Train CTC: 0.06926006894089133\n",
      "Eval CTC: 0.0693979582431007\n",
      "\n",
      "Epoch 6\n"
     ]
    },
    {
     "data": {
      "application/vnd.jupyter.widget-view+json": {
       "model_id": "692c6dba6a17441883aab28ef9ccff50",
       "version_major": 2,
       "version_minor": 0
      },
      "text/plain": [
       "  0%|          | 0/1563 [00:00<?, ?it/s]"
      ]
     },
     "metadata": {},
     "output_type": "display_data"
    },
    {
     "data": {
      "application/vnd.jupyter.widget-view+json": {
       "model_id": "f44f44644a264fc4a6ca9e3bbb467515",
       "version_major": 2,
       "version_minor": 0
      },
      "text/plain": [
       "  0%|          | 0/79 [00:00<?, ?it/s]"
      ]
     },
     "metadata": {},
     "output_type": "display_data"
    },
    {
     "name": "stdout",
     "output_type": "stream",
     "text": [
      "Train CTC: 0.05219624730772074\n",
      "Eval CTC: 0.06486983366216285\n",
      "\n",
      "Epoch 7\n"
     ]
    },
    {
     "data": {
      "application/vnd.jupyter.widget-view+json": {
       "model_id": "198d1a6b4cc742bc9b72ecd61559ec8a",
       "version_major": 2,
       "version_minor": 0
      },
      "text/plain": [
       "  0%|          | 0/1563 [00:00<?, ?it/s]"
      ]
     },
     "metadata": {},
     "output_type": "display_data"
    },
    {
     "data": {
      "application/vnd.jupyter.widget-view+json": {
       "model_id": "52dd6d53bd834e3bb98709b18f278ae6",
       "version_major": 2,
       "version_minor": 0
      },
      "text/plain": [
       "  0%|          | 0/79 [00:00<?, ?it/s]"
      ]
     },
     "metadata": {},
     "output_type": "display_data"
    },
    {
     "name": "stdout",
     "output_type": "stream",
     "text": [
      "Train CTC: 0.04214400670807558\n",
      "Eval CTC: 0.07545892772252989\n",
      "\n",
      "Epoch 8\n"
     ]
    },
    {
     "data": {
      "application/vnd.jupyter.widget-view+json": {
       "model_id": "91840320cc544340a92612edda7ac886",
       "version_major": 2,
       "version_minor": 0
      },
      "text/plain": [
       "  0%|          | 0/1563 [00:00<?, ?it/s]"
      ]
     },
     "metadata": {},
     "output_type": "display_data"
    },
    {
     "data": {
      "application/vnd.jupyter.widget-view+json": {
       "model_id": "37c113d58bb04ce681b198c5a5cbf9b0",
       "version_major": 2,
       "version_minor": 0
      },
      "text/plain": [
       "  0%|          | 0/79 [00:00<?, ?it/s]"
      ]
     },
     "metadata": {},
     "output_type": "display_data"
    },
    {
     "name": "stdout",
     "output_type": "stream",
     "text": [
      "Train CTC: 0.035413823933033745\n",
      "Eval CTC: 0.06186418796563816\n",
      "\n",
      "Epoch 9\n"
     ]
    },
    {
     "data": {
      "application/vnd.jupyter.widget-view+json": {
       "model_id": "f0ad8615692540e680ac12a8b6ca541f",
       "version_major": 2,
       "version_minor": 0
      },
      "text/plain": [
       "  0%|          | 0/1563 [00:00<?, ?it/s]"
      ]
     },
     "metadata": {},
     "output_type": "display_data"
    },
    {
     "data": {
      "application/vnd.jupyter.widget-view+json": {
       "model_id": "19cfc8c3c9a141a59927054a59a6e817",
       "version_major": 2,
       "version_minor": 0
      },
      "text/plain": [
       "  0%|          | 0/79 [00:00<?, ?it/s]"
      ]
     },
     "metadata": {},
     "output_type": "display_data"
    },
    {
     "name": "stdout",
     "output_type": "stream",
     "text": [
      "Train CTC: 0.03099549728221071\n",
      "Eval CTC: 0.05557966011663298\n",
      "\n",
      "Epoch 10\n"
     ]
    },
    {
     "data": {
      "application/vnd.jupyter.widget-view+json": {
       "model_id": "43286da026554d64a3c72a802463ea7b",
       "version_major": 2,
       "version_minor": 0
      },
      "text/plain": [
       "  0%|          | 0/1563 [00:00<?, ?it/s]"
      ]
     },
     "metadata": {},
     "output_type": "display_data"
    },
    {
     "data": {
      "application/vnd.jupyter.widget-view+json": {
       "model_id": "935f01cde3b247719b34fc2cea6683c8",
       "version_major": 2,
       "version_minor": 0
      },
      "text/plain": [
       "  0%|          | 0/79 [00:00<?, ?it/s]"
      ]
     },
     "metadata": {},
     "output_type": "display_data"
    },
    {
     "name": "stdout",
     "output_type": "stream",
     "text": [
      "Train CTC: 0.027535500582867682\n",
      "Eval CTC: 0.0651401086055373\n",
      "\n"
     ]
    }
   ],
   "source": [
    "model = CRNN(max_len = 15, hidden_dim = 200, output_dim = len(train_dataset.tokenizer), num_layers = 2) \n",
    "\n",
    "CTC =  nn.CTCLoss(blank = 1, reduction = 'mean', zero_infinity = True)\n",
    "optimizer = torch.optim.Adam(model.parameters(), lr = 1e-4)\n",
    "\n",
    "scheduler = torch.optim.lr_scheduler.ReduceLROnPlateau(optimizer, factor=0.8, patience=5, verbose=True) \n",
    "\n",
    "gc.collect()\n",
    "torch.cuda.empty_cache()\n",
    "\n",
    "train_model(\n",
    "    model = model,\n",
    "    train_dataset = train_dataset,\n",
    "    test_dataset = test_dataset,\n",
    "    batch_size = 128,\n",
    "    loss = CTC,\n",
    "    optimizer = optimizer,\n",
    "    scheduler = scheduler,\n",
    "    epochs = 10,\n",
    "    device = 'cuda'\n",
    ")"
   ]
  },
  {
   "cell_type": "code",
   "execution_count": 14,
   "id": "95b501d7",
   "metadata": {
    "execution": {
     "iopub.execute_input": "2023-01-07T23:25:16.772776Z",
     "iopub.status.busy": "2023-01-07T23:25:16.772636Z",
     "iopub.status.idle": "2023-01-07T23:25:16.776538Z",
     "shell.execute_reply": "2023-01-07T23:25:16.776158Z",
     "shell.execute_reply.started": "2023-01-07T23:25:16.772762Z"
    },
    "tags": []
   },
   "outputs": [],
   "source": [
    "def predict(model, dataset, tokenizer, device = 'cuda'):\n",
    "    model.eval()\n",
    "    preds = []\n",
    "    real = []\n",
    "    epoch_loss = 0\n",
    "    model = model.to(device)\n",
    "    test_dataloader = torch.utils.data.DataLoader(dataset, batch_size = 1, shuffle = False, collate_fn = collate_fn)\n",
    "    for img, label, encoded_label in tqdm(test_dataloader):\n",
    "        with torch.no_grad():\n",
    "            batch = img.shape[0]\n",
    "            img = img.to(device)\n",
    "            encoded_label = encoded_label.to(device)\n",
    "            pred = model(img)\n",
    "            preds.append(tokenizer.decode(pred.argmax(2).squeeze(1).tolist()))\n",
    "            real.append(label)\n",
    "    \n",
    "    return preds, real"
   ]
  },
  {
   "cell_type": "code",
   "execution_count": 15,
   "id": "3683b2d2",
   "metadata": {
    "execution": {
     "iopub.execute_input": "2023-01-07T23:25:16.777283Z",
     "iopub.status.busy": "2023-01-07T23:25:16.777051Z",
     "iopub.status.idle": "2023-01-07T23:26:04.304788Z",
     "shell.execute_reply": "2023-01-07T23:26:04.304302Z",
     "shell.execute_reply.started": "2023-01-07T23:25:16.777269Z"
    },
    "tags": []
   },
   "outputs": [
    {
     "data": {
      "application/vnd.jupyter.widget-view+json": {
       "model_id": "716290da62e34e1fafe5848e5c987cbc",
       "version_major": 2,
       "version_minor": 0
      },
      "text/plain": [
       "  0%|          | 0/9999 [00:00<?, ?it/s]"
      ]
     },
     "metadata": {},
     "output_type": "display_data"
    },
    {
     "name": "stdout",
     "output_type": "stream",
     "text": [
      "CER: 6.995199680328369\n",
      "Accuracy: 0.9487948794879488\n"
     ]
    }
   ],
   "source": [
    "accuracy = torchmetrics.CharErrorRate()\n",
    "\n",
    "preds, real_labels = predict(model, test_dataset, tokenizer)\n",
    "\n",
    "print('CER:', accuracy(preds, real_labels).item())\n",
    "print('Accuracy:', accuracy_score(preds, real_labels))"
   ]
  }
 ],
 "metadata": {
  "kernelspec": {
   "display_name": "Python 3 (ipykernel)",
   "language": "python",
   "name": "python3"
  },
  "language_info": {
   "codemirror_mode": {
    "name": "ipython",
    "version": 3
   },
   "file_extension": ".py",
   "mimetype": "text/x-python",
   "name": "python",
   "nbconvert_exporter": "python",
   "pygments_lexer": "ipython3",
   "version": "3.10.6"
  }
 },
 "nbformat": 4,
 "nbformat_minor": 5
}
